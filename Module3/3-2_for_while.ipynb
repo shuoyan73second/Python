{
 "cells": [
  {
   "cell_type": "markdown",
   "metadata": {},
   "source": [
    "| 用法 | 說明 |\n",
    "|:---:|:---:|\n",
    "| `range(m)` | 走訪 0 到 m-1 的數字 |\n",
    "| `range(n, m)` | 走訪 n 到 m-1 的數字  |\n",
    "| `range(n, m, step)` | 以step為間距，走訪 n 到 m-1 的數字 |"
   ]
  },
  {
   "cell_type": "markdown",
   "metadata": {},
   "source": [
    "##### for"
   ]
  },
  {
   "cell_type": "code",
   "execution_count": 1,
   "metadata": {},
   "outputs": [
    {
     "name": "stdout",
     "output_type": "stream",
     "text": [
      "0, 1, 2, 3, 4, 5, 6, 7, 8, 9, "
     ]
    }
   ],
   "source": [
    "# range(m-1)\n",
    "for num in range(10):\n",
    "    print(num, end=\", \")\n"
   ]
  },
  {
   "cell_type": "code",
   "execution_count": 2,
   "metadata": {},
   "outputs": [
    {
     "name": "stdout",
     "output_type": "stream",
     "text": [
      "1, 2, 3, 4, 5, 6, 7, 8, 9, 10, 11, 12, 13, 14, 15, "
     ]
    }
   ],
   "source": [
    "# range(n, m-1)\n",
    "for num in range(1, 16):\n",
    "    print(num, end=', ')\n"
   ]
  },
  {
   "cell_type": "code",
   "execution_count": 3,
   "metadata": {},
   "outputs": [
    {
     "name": "stdout",
     "output_type": "stream",
     "text": [
      "1, 3, 5, 7, 9, 11, 13, 15, 17, 19, "
     ]
    }
   ],
   "source": [
    "# range(n, m-1, step)\n",
    "for num in range(1, 20, 2):\n",
    "    print(num, end=', ')\n"
   ]
  },
  {
   "cell_type": "code",
   "execution_count": null,
   "metadata": {},
   "outputs": [],
   "source": []
  },
  {
   "cell_type": "markdown",
   "metadata": {},
   "source": [
    "### 小試身手 for  \n",
    "請產出 a 開頭的 n 個偶數(含 a 本身)  \n",
    "Ex:  \n",
    "a = 5, n = 3  \n",
    "Output : 6 8 10\n",
    "\n",
    "a = 4, n = 5  \n",
    "Output : 4 6 8 10 12"
   ]
  },
  {
   "cell_type": "code",
   "execution_count": 4,
   "metadata": {},
   "outputs": [
    {
     "name": "stdout",
     "output_type": "stream",
     "text": [
      "6\n",
      "8\n",
      "10\n"
     ]
    }
   ],
   "source": [
    "a = 5\n",
    "n = 3\n",
    "for i in range(n):\n",
    "    if a % 2 == 0:\n",
    "        print(a+i*2)\n",
    "    else:\n",
    "        print(a+1+i*2)"
   ]
  },
  {
   "cell_type": "markdown",
   "metadata": {},
   "source": [
    "-----\n",
    "##### while"
   ]
  },
  {
   "cell_type": "code",
   "execution_count": null,
   "metadata": {},
   "outputs": [],
   "source": [
    "\n",
    "\n"
   ]
  }
 ],
 "metadata": {
  "kernelspec": {
   "display_name": "Python 3",
   "language": "python",
   "name": "python3"
  },
  "language_info": {
   "codemirror_mode": {
    "name": "ipython",
    "version": 3
   },
   "file_extension": ".py",
   "mimetype": "text/x-python",
   "name": "python",
   "nbconvert_exporter": "python",
   "pygments_lexer": "ipython3",
   "version": "3.13.0"
  }
 },
 "nbformat": 4,
 "nbformat_minor": 2
}
