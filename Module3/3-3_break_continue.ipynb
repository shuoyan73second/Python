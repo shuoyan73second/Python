{
 "cells": [
  {
   "cell_type": "markdown",
   "metadata": {},
   "source": [
    "##### break"
   ]
  },
  {
   "cell_type": "code",
   "execution_count": 1,
   "metadata": {},
   "outputs": [
    {
     "name": "stdout",
     "output_type": "stream",
     "text": [
      "c, o, t, e, x, t, "
     ]
    }
   ],
   "source": [
    "'''\n",
    "當偵測到字母 t 時，就會強制結束迴圈\n",
    "'''\n",
    "message = 'contenxt'\n",
    "\n",
    "for i in message:\n",
    "    if i =='n':\n",
    "        continue\n",
    "    print(i, end=', ')\n"
   ]
  },
  {
   "cell_type": "markdown",
   "metadata": {},
   "source": [
    "##### continue"
   ]
  },
  {
   "cell_type": "code",
   "execution_count": 2,
   "metadata": {},
   "outputs": [
    {
     "name": "stdout",
     "output_type": "stream",
     "text": [
      "c, o, "
     ]
    }
   ],
   "source": [
    "'''\n",
    "當偵測到字母 t 時，\n",
    "會跳過本次迴圈剩下的程式碼 print(char)，\n",
    "但不會結束迴圈，仍然會進入下一圈繼續執行\n",
    "'''\n",
    "message = 'context'\n",
    "\n",
    "for i in message:\n",
    "    if i == 'n':\n",
    "        break\n",
    "    print(i, end=', ')\n"
   ]
  },
  {
   "cell_type": "markdown",
   "metadata": {},
   "source": [
    "### 小試身手\n",
    "計算 1 到 100 之間的和，如果值超過500就停止執行"
   ]
  },
  {
   "cell_type": "code",
   "execution_count": 4,
   "metadata": {},
   "outputs": [
    {
     "name": "stdout",
     "output_type": "stream",
     "text": [
      "528\n"
     ]
    }
   ],
   "source": [
    "sum =  0\n",
    "for i in range(1,101):\n",
    "    sum += i\n",
    "    if sum > 500:\n",
    "        break\n",
    "print(sum)"
   ]
  },
  {
   "cell_type": "markdown",
   "metadata": {},
   "source": [
    "計算 1 到 100 之間的奇數之和，但要跳過所有被 5 整除的數"
   ]
  },
  {
   "cell_type": "code",
   "execution_count": 8,
   "metadata": {},
   "outputs": [
    {
     "name": "stdout",
     "output_type": "stream",
     "text": [
      "1, 3, 7, 9, 11, 13, 17, 19, 21, 23, 27, 29, 31, 33, 37, 39, 41, 43, 47, 49, 51, 53, 57, 59, 61, 63, 67, 69, 71, 73, 77, 79, 81, 83, 87, 89, 91, 93, 97, 99, \n",
      "2000\n"
     ]
    }
   ],
   "source": [
    "sum = 0\n",
    "\n",
    "for i in range(1, 100, 2):\n",
    "    \n",
    "    if i%5 == 0:\n",
    "        continue\n",
    "    print(i, end=', ')\n",
    "    \n",
    "    sum+=i\n",
    "print()\n",
    "print(sum)\n"
   ]
  },
  {
   "cell_type": "code",
   "execution_count": null,
   "metadata": {},
   "outputs": [],
   "source": []
  }
 ],
 "metadata": {
  "kernelspec": {
   "display_name": "Python 3",
   "language": "python",
   "name": "python3"
  },
  "language_info": {
   "codemirror_mode": {
    "name": "ipython",
    "version": 3
   },
   "file_extension": ".py",
   "mimetype": "text/x-python",
   "name": "python",
   "nbconvert_exporter": "python",
   "pygments_lexer": "ipython3",
   "version": "3.13.0"
  }
 },
 "nbformat": 4,
 "nbformat_minor": 2
}
