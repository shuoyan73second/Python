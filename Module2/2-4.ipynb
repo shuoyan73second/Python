{
 "cells": [
  {
   "cell_type": "markdown",
   "metadata": {},
   "source": [
    "|求偶數 |求奇數 |\n",
    "|:---|:---|\n",
    "|num%2==0 |num%2!=0 |"
   ]
  },
  {
   "cell_type": "markdown",
   "metadata": {},
   "source": [
    "算術運算子"
   ]
  },
  {
   "cell_type": "code",
   "execution_count": 1,
   "metadata": {},
   "outputs": [
    {
     "name": "stdout",
     "output_type": "stream",
     "text": [
      "13\n",
      "1.5\n",
      "8\n"
     ]
    }
   ],
   "source": [
    "print(9+4)\n",
    "print(3/2)\n",
    "print(2**3)"
   ]
  },
  {
   "cell_type": "code",
   "execution_count": 2,
   "metadata": {},
   "outputs": [
    {
     "name": "stdout",
     "output_type": "stream",
     "text": [
      "0\n",
      "11\n"
     ]
    }
   ],
   "source": [
    "print(10%2)\n",
    "\n",
    "print(23//2)"
   ]
  },
  {
   "cell_type": "markdown",
   "metadata": {},
   "source": [
    "賦值運算子"
   ]
  },
  {
   "cell_type": "code",
   "execution_count": 6,
   "metadata": {},
   "outputs": [
    {
     "name": "stdout",
     "output_type": "stream",
     "text": [
      "15\n"
     ]
    }
   ],
   "source": [
    "x = 5\n",
    "y = 10\n",
    "\n",
    "x += y\n",
    "print(x)"
   ]
  },
  {
   "cell_type": "markdown",
   "metadata": {},
   "source": [
    "比較運算子 (用 if 判斷)"
   ]
  },
  {
   "cell_type": "code",
   "execution_count": 7,
   "metadata": {},
   "outputs": [
    {
     "name": "stdout",
     "output_type": "stream",
     "text": [
      "False\n"
     ]
    }
   ],
   "source": [
    "num = 20\n",
    "print(num == 10)\n",
    "if num == 10:\n",
    "    print(num)\n",
    "    if num >= 10:\n",
    "        print(\"num 大於 10\")\n"
   ]
  },
  {
   "cell_type": "markdown",
   "metadata": {},
   "source": [
    "邏輯運算子 and / or / not"
   ]
  },
  {
   "cell_type": "code",
   "execution_count": 1,
   "metadata": {},
   "outputs": [
    {
     "name": "stdout",
     "output_type": "stream",
     "text": [
      "or Ok\n",
      "not OK\n"
     ]
    }
   ],
   "source": [
    "name = 'Jarvis'\n",
    "age = 20\n",
    "\n",
    "if name == \"Jarvis\" and age == 10:\n",
    "    print(\"and OK\")\n",
    "if name == \"Jarvis\" or age ==10:\n",
    "    print(\"or Ok\")\n",
    "\n",
    "if not age == 10:\n",
    "    print('not OK')"
   ]
  },
  {
   "cell_type": "markdown",
   "metadata": {},
   "source": [
    "成員運算子 in / not in"
   ]
  },
  {
   "cell_type": "code",
   "execution_count": 2,
   "metadata": {},
   "outputs": [
    {
     "name": "stdout",
     "output_type": "stream",
     "text": [
      "5 in list.\n"
     ]
    }
   ],
   "source": [
    "num_list = [1, 2, 3, 4, 5, 6]\n",
    "\n",
    "if 5 in num_list:\n",
    "    print(\"5 in list.\")"
   ]
  },
  {
   "cell_type": "markdown",
   "metadata": {},
   "source": [
    "身分運算子 is / is not"
   ]
  },
  {
   "cell_type": "code",
   "execution_count": 3,
   "metadata": {},
   "outputs": [
    {
     "name": "stdout",
     "output_type": "stream",
     "text": [
      "123\n",
      "x is y\n",
      "140708672238312\n",
      "140708672238312\n"
     ]
    }
   ],
   "source": [
    "x = 123\n",
    "y = x\n",
    "print(y)\n",
    "\n",
    "if x is y:\n",
    "    print('x is y')\n",
    "\n",
    "print(id(x))\n",
    "print(id(y))"
   ]
  },
  {
   "cell_type": "markdown",
   "metadata": {},
   "source": [
    "位元運算子"
   ]
  },
  {
   "cell_type": "code",
   "execution_count": 4,
   "metadata": {},
   "outputs": [
    {
     "name": "stdout",
     "output_type": "stream",
     "text": [
      "2620081168128\n",
      "[3, 2, 1]\n",
      "2620080190208\n",
      "[1, [1, 2, 3], 3]\n"
     ]
    }
   ],
   "source": [
    "x = [1, 2, 3]\n",
    "y = [1, x, 3]\n",
    "print(id(x))\n",
    "\n",
    "\n",
    "x = [3, 2, 1]\n",
    "print(x)\n",
    "print(id(x))\n",
    "\n",
    "\n",
    "print(y)"
   ]
  },
  {
   "cell_type": "code",
   "execution_count": 5,
   "metadata": {},
   "outputs": [
    {
     "name": "stdout",
     "output_type": "stream",
     "text": [
      "2620081175424\n",
      "[100, 2, 3]\n",
      "2620081175424\n",
      "[1, [100, 2, 3], 3]\n"
     ]
    }
   ],
   "source": [
    "x = [1, 2, 3]\n",
    "y = [1, x, 3]\n",
    "print(id(x))\n",
    "\n",
    "x[0] = 100\n",
    "print(x)\n",
    "print(id(x))\n",
    "\n",
    "print(y)"
   ]
  },
  {
   "cell_type": "code",
   "execution_count": 6,
   "metadata": {},
   "outputs": [
    {
     "name": "stdout",
     "output_type": "stream",
     "text": [
      "1\n",
      "3\n",
      "2\n"
     ]
    }
   ],
   "source": [
    "x = 1\n",
    "y = 3\n",
    "\n",
    "print(x&y)\n",
    "print(x|y)\n",
    "print(x<<1)"
   ]
  },
  {
   "cell_type": "code",
   "execution_count": null,
   "metadata": {},
   "outputs": [],
   "source": []
  }
 ],
 "metadata": {
  "kernelspec": {
   "display_name": "Python 3",
   "language": "python",
   "name": "python3"
  },
  "language_info": {
   "codemirror_mode": {
    "name": "ipython",
    "version": 3
   },
   "file_extension": ".py",
   "mimetype": "text/x-python",
   "name": "python",
   "nbconvert_exporter": "python",
   "pygments_lexer": "ipython3",
   "version": "3.13.0"
  }
 },
 "nbformat": 4,
 "nbformat_minor": 2
}
