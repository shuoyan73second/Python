{
 "cells": [
  {
   "cell_type": "code",
   "execution_count": 1,
   "metadata": {},
   "outputs": [
    {
     "name": "stdout",
     "output_type": "stream",
     "text": [
      "Hello World\n",
      "None\n"
     ]
    }
   ],
   "source": [
    "# 建立 function 1\n",
    "def say_hello():\n",
    "    print(\"Hello World\")\n",
    "\n",
    "x = say_hello()\n",
    "print(x)\n"
   ]
  },
  {
   "cell_type": "code",
   "execution_count": 2,
   "metadata": {},
   "outputs": [
    {
     "name": "stdout",
     "output_type": "stream",
     "text": [
      "Jarvis\n"
     ]
    }
   ],
   "source": [
    "# 建立 function 2\n",
    "def get_name():\n",
    "    name = \"Jarvis\"\n",
    "    return name\n",
    "\n",
    "fun_name = get_name()\n",
    "print(fun_name)\n"
   ]
  },
  {
   "cell_type": "code",
   "execution_count": 3,
   "metadata": {},
   "outputs": [
    {
     "name": "stdout",
     "output_type": "stream",
     "text": [
      "Hello, Jarvis\n",
      "Hello, Allen\n"
     ]
    }
   ],
   "source": [
    "# 建立 function 3\n",
    "\n",
    "def say_good_morning(name):\n",
    "    return \"Hello, \"+name\n",
    "\n",
    "\n",
    "print(say_good_morning('Jarvis'))\n",
    "x = say_good_morning('Allen')\n",
    "print(x)"
   ]
  },
  {
   "cell_type": "code",
   "execution_count": 4,
   "metadata": {},
   "outputs": [
    {
     "name": "stdout",
     "output_type": "stream",
     "text": [
      "Hello, Jarvis!\n",
      "Good Morning, Amy!\n"
     ]
    }
   ],
   "source": [
    "# 建立 function 4\n",
    "def get_greeting(greeting='Hello',name=\"Jarvis\"):\n",
    "    return f\"{greeting}, {name}!\"\n",
    "\n",
    "greeting = get_greeting()\n",
    "print(greeting)\n",
    "\n",
    "\n",
    "greeting = get_greeting(\"Good Morning\", \"Amy\")\n",
    "print(greeting)\n"
   ]
  },
  {
   "cell_type": "markdown",
   "metadata": {},
   "source": [
    "-----"
   ]
  },
  {
   "cell_type": "code",
   "execution_count": 5,
   "metadata": {},
   "outputs": [],
   "source": [
    "# 改寫 Module2 practice\n",
    "\n",
    "total = 1800\n",
    "discount = 200\n",
    "\n",
    "def discount():\n",
    "    \n",
    "\n",
    "    n = total // 2000\n",
    "    print(n)\n",
    "\n",
    "    total -= discount*n\n",
    "    print(total)\n",
    "\n",
    "\n"
   ]
  },
  {
   "cell_type": "code",
   "execution_count": 6,
   "metadata": {},
   "outputs": [
    {
     "name": "stdout",
     "output_type": "stream",
     "text": [
      "Requirement already satisfied: pymysql in c:\\users\\user\\appdata\\local\\programs\\python\\python313\\lib\\site-packages (1.1.1)\n",
      "Note: you may need to restart the kernel to use updated packages.\n"
     ]
    }
   ],
   "source": [
    "%pip install pymysql"
   ]
  },
  {
   "cell_type": "code",
   "execution_count": 7,
   "metadata": {},
   "outputs": [
    {
     "name": "stdout",
     "output_type": "stream",
     "text": [
      "(('information_schema',), ('my_database',), ('my_titanic',), ('my_train_titanic',), ('mysql',), ('performance_schema',), ('sakila',), ('servdb',), ('social_media_app',), ('sys',), ('transaction_test',), ('world',))\n"
     ]
    }
   ],
   "source": [
    "import pymysql\n",
    "\n",
    "connection = pymysql.connect(\n",
    "    host=\"localhost\",\n",
    "    user=\"root\",\n",
    "    password=\"P@ssw0rd\",\n",
    "    port=3306\n",
    "\n",
    ")\n",
    "\n",
    "with connection.cursor() as cursor:\n",
    "    cursor.execute(\"SHOW DATABASES;\")\n",
    "    result = cursor.fetchall()\n",
    "\n",
    "print(result) "
   ]
  },
  {
   "cell_type": "code",
   "execution_count": 8,
   "metadata": {},
   "outputs": [
    {
     "name": "stdout",
     "output_type": "stream",
     "text": [
      "[{'Database': 'information_schema'}, {'Database': 'my_database'}, {'Database': 'my_titanic'}, {'Database': 'my_train_titanic'}, {'Database': 'mysql'}, {'Database': 'performance_schema'}, {'Database': 'sakila'}, {'Database': 'servdb'}, {'Database': 'social_media_app'}, {'Database': 'sys'}, {'Database': 'transaction_test'}, {'Database': 'world'}]\n",
      "[{'Tables_in_my_titanic': 'full_passengers'}]\n",
      "[{'id': 1, 'survived': Decimal('1.00')}, {'id': 2, 'survived': Decimal('1.00')}, {'id': 3, 'survived': Decimal('0.00')}, {'id': 4, 'survived': Decimal('0.00')}, {'id': 5, 'survived': Decimal('0.00')}, {'id': 6, 'survived': Decimal('1.00')}, {'id': 7, 'survived': Decimal('1.00')}, {'id': 8, 'survived': Decimal('0.00')}, {'id': 9, 'survived': Decimal('1.00')}, {'id': 10, 'survived': Decimal('0.00')}]\n"
     ]
    }
   ],
   "source": [
    "def sql_query(database, sql):\n",
    "    connection = pymysql.connect(\n",
    "        host=\"localhost\",\n",
    "        user=\"root\",\n",
    "        password=\"P@ssw0rd\",\n",
    "        port=3306,\n",
    "        database=database,\n",
    "        cursorclass=pymysql.cursors.DictCursor\n",
    "    )\n",
    "    with connection.cursor() as cursor:\n",
    "        cursor.execute(sql)\n",
    "        result = cursor.fetchall()\n",
    "\n",
    "    return result\n",
    "\n",
    "database = sql_query(None, \"SHOW DATABASES;\")\n",
    "print(database)\n",
    "\n",
    "tables = sql_query(\"my_titanic\", \"SHOW TABLES;\")\n",
    "print(tables)\n",
    "\n",
    "data = sql_query(\"my_titanic\", \"SELECT id, survived FROM full_passengers LIMIT 10\")\n",
    "print(data)"
   ]
  },
  {
   "cell_type": "code",
   "execution_count": 10,
   "metadata": {},
   "outputs": [
    {
     "name": "stdout",
     "output_type": "stream",
     "text": [
      "arg: (1, 2, 3)\n",
      "kwargs : {'a': 100, 'b': 200}\n"
     ]
    }
   ],
   "source": [
    "def test(*args, **kwargs):\n",
    "    print(f\"arg: {args}\")\n",
    "    print(f\"kwargs : {kwargs}\")\n",
    "test(1, 2, 3 ,a = 100, b = 200)"
   ]
  },
  {
   "cell_type": "code",
   "execution_count": 12,
   "metadata": {},
   "outputs": [
    {
     "name": "stdout",
     "output_type": "stream",
     "text": [
      "{'age': 29,\n",
      " 'boat': '2',\n",
      " 'body': None,\n",
      " 'cabin': 'B5',\n",
      " 'embarked': 'S',\n",
      " 'fare': Decimal('211.34'),\n",
      " 'homedest': 'St Louis, MO',\n",
      " 'id': 1,\n",
      " 'parch': 0,\n",
      " 'pclass': Decimal('1.00'),\n",
      " 'pname': 'Allen, Miss. Elisabeth Walton',\n",
      " 'sex': 'female',\n",
      " 'sibsp': 0,\n",
      " 'survived': Decimal('1.00'),\n",
      " 'ticket': '24160'}\n"
     ]
    }
   ],
   "source": [
    "from pprint import pprint\n",
    "\n",
    "data = sql_query(\"my_titanic\", \"SELECT * FROM full_passengers \")\n",
    "pprint(data[0])"
   ]
  },
  {
   "cell_type": "code",
   "execution_count": 13,
   "metadata": {},
   "outputs": [
    {
     "name": "stdout",
     "output_type": "stream",
     "text": [
      "466\n",
      "843\n"
     ]
    }
   ],
   "source": [
    "male = 0\n",
    "female = 0\n",
    "\n",
    "for i in data:\n",
    "    if i['sex'] == 'female':\n",
    "        female += 1\n",
    "    else:\n",
    "        male += 1\n",
    "print(female)\n",
    "print(male)"
   ]
  },
  {
   "cell_type": "code",
   "execution_count": null,
   "metadata": {},
   "outputs": [],
   "source": [
    "id = 0\n",
    "female = 0\n",
    "\n",
    "for i in data:\n",
    "    if 'Leonard' in i['pname'].split(',')[-1] and i['sex'] == 'male':\n",
    "        \n",
    "        print(female)\n",
    "        print(male)"
   ]
  },
  {
   "cell_type": "code",
   "execution_count": null,
   "metadata": {},
   "outputs": [],
   "source": []
  }
 ],
 "metadata": {
  "kernelspec": {
   "display_name": "Python 3",
   "language": "python",
   "name": "python3"
  },
  "language_info": {
   "codemirror_mode": {
    "name": "ipython",
    "version": 3
   },
   "file_extension": ".py",
   "mimetype": "text/x-python",
   "name": "python",
   "nbconvert_exporter": "python",
   "pygments_lexer": "ipython3",
   "version": "3.13.0"
  }
 },
 "nbformat": 4,
 "nbformat_minor": 2
}
