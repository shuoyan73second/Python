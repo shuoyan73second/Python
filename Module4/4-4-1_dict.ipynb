{
 "cells": [
  {
   "cell_type": "code",
   "execution_count": 1,
   "metadata": {},
   "outputs": [
    {
     "name": "stdout",
     "output_type": "stream",
     "text": [
      "{'apple': 20, 'orange': 30, 'tomato': 50}\n"
     ]
    }
   ],
   "source": [
    "# 初始化 dict\n",
    "\n",
    "fruit_price_dict = {'apple': 20, \"orange\": 30, \"tomato\": 50}\n",
    "\n",
    "print(fruit_price_dict)"
   ]
  },
  {
   "cell_type": "code",
   "execution_count": 2,
   "metadata": {},
   "outputs": [
    {
     "name": "stdout",
     "output_type": "stream",
     "text": [
      "{'apple': 20, 'orange': 30, 'tomato': 50}\n"
     ]
    }
   ],
   "source": [
    "fruit_price_dict = {\n",
    "    'apple': 20, \n",
    "    \"orange\": 30, \n",
    "    \"tomato\": 50}\n",
    "\n",
    "print(fruit_price_dict)"
   ]
  },
  {
   "cell_type": "code",
   "execution_count": 3,
   "metadata": {},
   "outputs": [
    {
     "name": "stdout",
     "output_type": "stream",
     "text": [
      "20\n",
      "蘋果價格: 20 元\n"
     ]
    }
   ],
   "source": [
    "# 印出 蘋果的價格\n",
    "\n",
    "print(fruit_price_dict['apple'])\n",
    "print(f\"蘋果價格: {fruit_price_dict['apple']} 元\")"
   ]
  },
  {
   "cell_type": "code",
   "execution_count": 4,
   "metadata": {},
   "outputs": [
    {
     "name": "stdout",
     "output_type": "stream",
     "text": [
      "{'apple': 20, 'orange': 50, 'tomato': 50}\n"
     ]
    }
   ],
   "source": [
    "# 修改 橘子的價格\n",
    "fruit_price_dict['orange'] = 50\n",
    "\n",
    "print(fruit_price_dict)\n"
   ]
  },
  {
   "cell_type": "code",
   "execution_count": 5,
   "metadata": {},
   "outputs": [
    {
     "name": "stdout",
     "output_type": "stream",
     "text": [
      "{'apple': 20, 'orange': 50}\n"
     ]
    }
   ],
   "source": [
    "# 刪除 番茄\n",
    "del fruit_price_dict['tomato']\n",
    "\n",
    "print(fruit_price_dict)\n"
   ]
  },
  {
   "cell_type": "code",
   "execution_count": 6,
   "metadata": {},
   "outputs": [
    {
     "name": "stdout",
     "output_type": "stream",
     "text": [
      "{'apple': 20, 'orange': 50, 'kiwi': 100}\n"
     ]
    }
   ],
   "source": [
    "fruit_price_dict['kiwi'] = 100\n",
    "print(fruit_price_dict)"
   ]
  },
  {
   "cell_type": "code",
   "execution_count": 7,
   "metadata": {},
   "outputs": [
    {
     "name": "stdout",
     "output_type": "stream",
     "text": [
      "{'name': 'Jarvis', 'age': 20, 'info': {'phone_number': ['0912345678', '23883456'], 'favorite_role': 'IRON_MAN', 'nickname': 'Jack'}}\n",
      "{'age': 20,\n",
      " 'info': {'favorite_role': 'IRON_MAN',\n",
      "          'nickname': 'Jack',\n",
      "          'phone_number': ['0912345678', '23883456']},\n",
      " 'name': 'Jarvis'}\n"
     ]
    }
   ],
   "source": [
    "# 建立一個 value 含有 dict 的 dict\n",
    "person_info = {\n",
    "    \"name\": \"Jarvis\",\n",
    "    \"age\" : 20,\n",
    "    \"info\": {\n",
    "        \"phone_number\": ['0912345678', '23883456'],\n",
    "        \"favorite_role\":\"IRON_MAN\",\n",
    "        \"nickname\": \"Jack\"\n",
    "\n",
    "    }\n",
    "}\n",
    "print(person_info)\n",
    "\n",
    "\n",
    "from pprint import pprint\n",
    "pprint(person_info)"
   ]
  },
  {
   "cell_type": "code",
   "execution_count": 8,
   "metadata": {},
   "outputs": [
    {
     "name": "stdout",
     "output_type": "stream",
     "text": [
      "{'phone_number': ['0912345678', '23883456'], 'favorite_role': 'IRON_MAN', 'nickname': 'Jack'}\n",
      "<class 'dict'>\n",
      "Jack\n"
     ]
    }
   ],
   "source": [
    "# 取得 nickname\n",
    "print(person_info['info'])\n",
    "print(type(person_info['info']))\n",
    "print(person_info['info']['nickname'])\n"
   ]
  },
  {
   "cell_type": "code",
   "execution_count": 9,
   "metadata": {},
   "outputs": [
    {
     "name": "stdout",
     "output_type": "stream",
     "text": [
      "['0912345678', '23883456']\n"
     ]
    }
   ],
   "source": [
    "# 取得所有 phone_number\n",
    "phone_num_list = person_info['info']['phone_number']\n",
    "\n",
    "print(phone_num_list)\n"
   ]
  },
  {
   "cell_type": "markdown",
   "metadata": {},
   "source": [
    "---"
   ]
  },
  {
   "cell_type": "code",
   "execution_count": 10,
   "metadata": {},
   "outputs": [
    {
     "name": "stdout",
     "output_type": "stream",
     "text": [
      "{'apple': {'price': 30, 'amount': 10, 'color': ['green', 'red']}, 'orange': {'price': 50, 'amount': 20, 'color': ['orange']}}\n",
      "{'tomato': {'price': 10, 'amount': 100, 'color': ['red']}}\n"
     ]
    }
   ],
   "source": [
    "'''\n",
    "改寫 fruit_dict 每個水果需要 price, quantity/amount, color\n",
    "apple 有 綠色 和 紅色\n",
    "orange 有 橘色\n",
    "tomato 有 紅色\n",
    "'''\n",
    "fruit_dict1 = {\n",
    "    \"apple\" : {\n",
    "        \"price\": 30,\n",
    "        \"amount\" : 10,\n",
    "        \"color\": ['green', 'red']\n",
    "    },\n",
    "    \"orange\" : {\n",
    "        \"price\": 50,\n",
    "        \"amount\": 20,\n",
    "        \"color\": [\"orange\"]\n",
    "    },\n",
    "\n",
    "}\n",
    "\n",
    "\n",
    "fruit_dict2 = {\n",
    "    \"tomato\": {\n",
    "        \"price\": 10,\n",
    "        \"amount\": 100,\n",
    "        \"color\": ['red']\n",
    "    }\n",
    "}\n",
    "\n",
    "print(fruit_dict1)\n",
    "print(fruit_dict2)"
   ]
  },
  {
   "cell_type": "markdown",
   "metadata": {},
   "source": [
    "##### dict 的合併"
   ]
  },
  {
   "cell_type": "code",
   "execution_count": 11,
   "metadata": {},
   "outputs": [
    {
     "name": "stdout",
     "output_type": "stream",
     "text": [
      "{'apple': {'amount': 10, 'color': ['green', 'red'], 'price': 30},\n",
      " 'orange': {'amount': 20, 'color': ['orange'], 'price': 50},\n",
      " 'tomato': {'amount': 100, 'color': ['red'], 'price': 10}}\n"
     ]
    }
   ],
   "source": [
    "# dict 的合併\n",
    "fruit_dict1.update(fruit_dict2)\n",
    "pprint(fruit_dict1)"
   ]
  },
  {
   "cell_type": "markdown",
   "metadata": {},
   "source": [
    "##### 另外的 print 方式 `pprint` (pretty-print) "
   ]
  },
  {
   "cell_type": "code",
   "execution_count": 2,
   "metadata": {},
   "outputs": [],
   "source": [
    "# 從 Module 引入 function\n"
   ]
  },
  {
   "cell_type": "code",
   "execution_count": 12,
   "metadata": {},
   "outputs": [
    {
     "name": "stdout",
     "output_type": "stream",
     "text": [
      "{'apple': {'amount': 10, 'color': ['green', 'red', 'yellow'], 'price': 30},\n",
      " 'orange': {'amount': 20, 'color': ['orange'], 'price': 50},\n",
      " 'tomato': {'amount': 100, 'color': ['red', 'green'], 'price': 10}}\n"
     ]
    }
   ],
   "source": [
    "'''\n",
    "新增顏色\n",
    "apple 有新的品種 顏色要有黃色\n",
    "tomato 有綠色\n",
    "'''\n",
    "\n",
    "fruit_dict1['apple']['color'].append('yellow')\n",
    "fruit_dict1['tomato']['color'].append('green')\n",
    "\n",
    "pprint(fruit_dict1)"
   ]
  },
  {
   "cell_type": "code",
   "execution_count": null,
   "metadata": {},
   "outputs": [],
   "source": []
  }
 ],
 "metadata": {
  "kernelspec": {
   "display_name": "Python 3",
   "language": "python",
   "name": "python3"
  },
  "language_info": {
   "codemirror_mode": {
    "name": "ipython",
    "version": 3
   },
   "file_extension": ".py",
   "mimetype": "text/x-python",
   "name": "python",
   "nbconvert_exporter": "python",
   "pygments_lexer": "ipython3",
   "version": "3.13.0"
  }
 },
 "nbformat": 4,
 "nbformat_minor": 2
}
