{
 "cells": [
  {
   "cell_type": "code",
   "execution_count": 1,
   "metadata": {},
   "outputs": [
    {
     "name": "stdout",
     "output_type": "stream",
     "text": [
      "name: Jarvis, age: 20\n"
     ]
    }
   ],
   "source": [
    "# f-string (又稱作 formatted string literals, version >= 3.6)\n",
    "name = \"Jarvis\"\n",
    "age = 20\n",
    "result = f\"name: {name}, age: {age}\"\n",
    "\n",
    "print(result)\n"
   ]
  },
  {
   "cell_type": "code",
   "execution_count": 2,
   "metadata": {},
   "outputs": [
    {
     "name": "stdout",
     "output_type": "stream",
     "text": [
      "name: Jarvis    , age:         20\n"
     ]
    }
   ],
   "source": [
    "# 靠左對齊、靠右對齊\n",
    "\n",
    "result = f\"name: {name:<10}, age: {age:>10}\"\n",
    "print(result)"
   ]
  },
  {
   "cell_type": "code",
   "execution_count": 3,
   "metadata": {},
   "outputs": [
    {
     "name": "stdout",
     "output_type": "stream",
     "text": [
      "name: Jarviszzzz, age: XXXXXXXX20\n"
     ]
    }
   ],
   "source": [
    "# 靠左對齊、靠右對齊，字數不足，補「ㄏ」\n",
    "# (沒寫補什麼，預設空格)\n",
    "result = f\"name: {name:z<10}, age: {age:X>10}\"\n",
    "print(result)\n"
   ]
  },
  {
   "cell_type": "code",
   "execution_count": 4,
   "metadata": {},
   "outputs": [
    {
     "name": "stdout",
     "output_type": "stream",
     "text": [
      "name: [  Jarvis  ], age:[    20    ]\n"
     ]
    }
   ],
   "source": [
    "# 置中對齊\n",
    "result = f\"name: [{name:^10}], age:[{age:^10}]\"\n",
    "print(result)\n"
   ]
  },
  {
   "cell_type": "code",
   "execution_count": 5,
   "metadata": {},
   "outputs": [
    {
     "name": "stdout",
     "output_type": "stream",
     "text": [
      "小數點2位: 3.14\n"
     ]
    }
   ],
   "source": [
    "# 指定文字長度上限 (只有文字，才在格式化字串中加入「.」來限定字串長度)\n",
    "\n",
    "float_num = 3.142523451\n",
    "print(f\"小數點2位: {float_num:.2f}\")\n"
   ]
  },
  {
   "cell_type": "code",
   "execution_count": null,
   "metadata": {},
   "outputs": [],
   "source": []
  }
 ],
 "metadata": {
  "kernelspec": {
   "display_name": "Python 3",
   "language": "python",
   "name": "python3"
  },
  "language_info": {
   "codemirror_mode": {
    "name": "ipython",
    "version": 3
   },
   "file_extension": ".py",
   "mimetype": "text/x-python",
   "name": "python",
   "nbconvert_exporter": "python",
   "pygments_lexer": "ipython3",
   "version": "3.13.0"
  }
 },
 "nbformat": 4,
 "nbformat_minor": 2
}
