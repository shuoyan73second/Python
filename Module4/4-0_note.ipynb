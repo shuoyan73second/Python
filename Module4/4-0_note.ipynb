{
 "cells": [
  {
   "cell_type": "markdown",
   "metadata": {},
   "source": [
    "|型態| 創建方式 | 可不可變 | 有序/無序 |\n",
    "|:---:|:---:|:---:|:---:|\n",
    "|str| name=\"Jarvis\"| N| Y|\n",
    "|list| num_list = [1, 2, 3]|Y | Y|\n",
    "|dict| fruit_dict = {'apple':20, 'orange': 30}|Y |Y |\n",
    "|tuple| num_tuple = (1, 2, 3)| N| Y|\n",
    "|set| num_set = {1, 2, 3}|Y |N |"
   ]
  },
  {
   "cell_type": "code",
   "execution_count": null,
   "metadata": {},
   "outputs": [],
   "source": []
  },
  {
   "cell_type": "code",
   "execution_count": null,
   "metadata": {},
   "outputs": [],
   "source": []
  }
 ],
 "metadata": {
  "kernelspec": {
   "display_name": "Python 3",
   "language": "python",
   "name": "python3"
  },
  "language_info": {
   "codemirror_mode": {
    "name": "ipython",
    "version": 3
   },
   "file_extension": ".py",
   "mimetype": "text/x-python",
   "name": "python",
   "nbconvert_exporter": "python",
   "pygments_lexer": "ipython3",
   "version": "3.9.13"
  }
 },
 "nbformat": 4,
 "nbformat_minor": 2
}
