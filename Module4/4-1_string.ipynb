{
 "cells": [
  {
   "cell_type": "markdown",
   "metadata": {},
   "source": [
    "|string方法| 功能 |\n",
    "|:---:|:---:|\n",
    "| | 替換字串 |\n",
    "| | 去除兩側空格 |\n",
    "| | 字串小寫變大寫 |\n",
    "| | 字串大寫變小寫 |"
   ]
  },
  {
   "cell_type": "code",
   "execution_count": 2,
   "metadata": {},
   "outputs": [
    {
     "name": "stdout",
     "output_type": "stream",
     "text": [
      "Amy\n",
      "[200, 2, 3]\n",
      "A\n"
     ]
    }
   ],
   "source": [
    "# 字串變數初始化\n",
    "\n",
    "name = \"Amy\"\n",
    "print(name)\n",
    "\n",
    "num_list = [1, 2, 3]\n",
    "num_list[0] = 200\n",
    "print(num_list)\n",
    "\n",
    "print(name[0])"
   ]
  },
  {
   "cell_type": "code",
   "execution_count": 3,
   "metadata": {},
   "outputs": [
    {
     "name": "stdout",
     "output_type": "stream",
     "text": [
      "Alex\n",
      "Allen\n"
     ]
    }
   ],
   "source": [
    "# 替換字串\n",
    "'''\n",
    "\n",
    "將 string 中的 str1 替換成 str2\n",
    "'''\n",
    "\n",
    "user_name = 'Alex'\n",
    "name = user_name.replace('ex', 'len')\n",
    "\n",
    "print(user_name)\n",
    "print(name)"
   ]
  },
  {
   "cell_type": "code",
   "execution_count": 4,
   "metadata": {},
   "outputs": [
    {
     "name": "stdout",
     "output_type": "stream",
     "text": [
      "__ccc__\n",
      " __ccc__ \n"
     ]
    }
   ],
   "source": [
    "# 去除兩側空格\n",
    "'''\n",
    "\n",
    "去除字串 string 左、右兩邊的空格\n",
    "'''\n",
    "string01 = ' __ccc__ '\n",
    "print(string01.strip())\n",
    "print(string01)\n"
   ]
  },
  {
   "cell_type": "code",
   "execution_count": 5,
   "metadata": {},
   "outputs": [
    {
     "name": "stdout",
     "output_type": "stream",
     "text": [
      "jarvis\n",
      "JENNY\n"
     ]
    }
   ],
   "source": [
    "# 字串小寫變大寫\n",
    "'''\n",
    "\n",
    "將字串 string 裡的字母全部改成小寫\n",
    "'''\n",
    "name = \"JARVIS\"\n",
    "print(name.lower())\n",
    "\n",
    "\n",
    "'''\n",
    "\n",
    "將字串 string 裡的字母全部改成大寫\n",
    "'''\n",
    "name2 = \"jenny\"\n",
    "print(name2.upper())"
   ]
  },
  {
   "cell_type": "code",
   "execution_count": 6,
   "metadata": {},
   "outputs": [
    {
     "name": "stdout",
     "output_type": "stream",
     "text": [
      "['hello', 'world!', 'hello', 'John']\n",
      "Hello World! Hello John "
     ]
    }
   ],
   "source": [
    "# 字串分割成 list\n",
    "greeting = \"hello world! hello John\"\n",
    "word_list = greeting.split()\n",
    "\n",
    "print(word_list)\n",
    "\n",
    "for i in word_list:\n",
    "    print(i.capitalize(), end=' ')"
   ]
  },
  {
   "cell_type": "code",
   "execution_count": 9,
   "metadata": {},
   "outputs": [
    {
     "name": "stdout",
     "output_type": "stream",
     "text": [
      "    * \n",
      "   * * \n",
      "  * * * \n",
      " * * * * \n",
      "* * * * * \n"
     ]
    }
   ],
   "source": [
    "n = 5\n",
    "for i in range(1, n+1):\n",
    "    print(' '*(n-i)+'* '*i)"
   ]
  },
  {
   "cell_type": "code",
   "execution_count": null,
   "metadata": {},
   "outputs": [],
   "source": []
  }
 ],
 "metadata": {
  "kernelspec": {
   "display_name": "Python 3",
   "language": "python",
   "name": "python3"
  },
  "language_info": {
   "codemirror_mode": {
    "name": "ipython",
    "version": 3
   },
   "file_extension": ".py",
   "mimetype": "text/x-python",
   "name": "python",
   "nbconvert_exporter": "python",
   "pygments_lexer": "ipython3",
   "version": "3.13.0"
  }
 },
 "nbformat": 4,
 "nbformat_minor": 2
}
