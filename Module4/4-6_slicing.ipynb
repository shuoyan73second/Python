{
 "cells": [
  {
   "cell_type": "markdown",
   "metadata": {},
   "source": [
    "##### slice 透過 [ : ] 進行分割\n",
    "`[n:m]` 走訪 n 到 m - 1 的元素"
   ]
  },
  {
   "cell_type": "code",
   "execution_count": 2,
   "metadata": {},
   "outputs": [],
   "source": [
    "# 初始化一個字串\n",
    "greeting = 'Hello,World!'"
   ]
  },
  {
   "cell_type": "code",
   "execution_count": 3,
   "metadata": {},
   "outputs": [
    {
     "name": "stdout",
     "output_type": "stream",
     "text": [
      "Hello\n"
     ]
    }
   ],
   "source": [
    "# 從頭取到 5（不包含第 5 個元素，實際為 0 ~ 4）\n",
    "print(greeting[0:5])\n"
   ]
  },
  {
   "cell_type": "code",
   "execution_count": null,
   "metadata": {},
   "outputs": [],
   "source": [
    "# 從頭取到 5（不包含第 5 個元素，實際為 0 ~ 4）\n",
    "\n",
    "print(greeting[:5])"
   ]
  },
  {
   "cell_type": "code",
   "execution_count": null,
   "metadata": {},
   "outputs": [],
   "source": [
    "# 從 6 取到尾\n",
    "print(greeting[6:])\n"
   ]
  },
  {
   "cell_type": "code",
   "execution_count": 4,
   "metadata": {},
   "outputs": [
    {
     "name": "stdout",
     "output_type": "stream",
     "text": [
      "Hello,World!\n",
      "or\n"
     ]
    }
   ],
   "source": [
    "# 從 7 取到 9（不包含第 9 個元素，實際為 7 ~ 8）\n",
    "print(greeting)\n",
    "\n",
    "print(greeting[7:9])\n"
   ]
  },
  {
   "cell_type": "markdown",
   "metadata": {},
   "source": [
    "##### 使用負號"
   ]
  },
  {
   "cell_type": "code",
   "execution_count": 5,
   "metadata": {},
   "outputs": [
    {
     "name": "stdout",
     "output_type": "stream",
     "text": [
      "llo\n",
      "Hello,World\n"
     ]
    }
   ],
   "source": [
    "# 從倒數第 10 取到倒數第 7（不包含倒數第 7 的元素）\n",
    "print(greeting[-10:-7])\n",
    "\n",
    "print(greeting[:-1])\n"
   ]
  },
  {
   "cell_type": "code",
   "execution_count": null,
   "metadata": {},
   "outputs": [],
   "source": [
    "# 從倒數第 5 取到尾\n",
    "print(greeting[-6:])\n"
   ]
  },
  {
   "cell_type": "code",
   "execution_count": 9,
   "metadata": {},
   "outputs": [],
   "source": [
    "# 從頭取到倒數第 7（不包含倒數第 7 的元素）\n",
    "print(greeting[:-7])\n"
   ]
  },
  {
   "cell_type": "code",
   "execution_count": null,
   "metadata": {},
   "outputs": [],
   "source": [
    "# 也可以使用在 list\n",
    "num_list = [i for i in range(1, 11)]\n",
    "\n",
    "print(num_list[2:-5])"
   ]
  },
  {
   "cell_type": "code",
   "execution_count": 6,
   "metadata": {},
   "outputs": [
    {
     "name": "stdout",
     "output_type": "stream",
     "text": [
      "['', 'home', 'jarvis', 'notebook.ipynb']\n",
      "notebook.ipynb\n"
     ]
    }
   ],
   "source": [
    "# 取得檔案全名\n",
    "file_path = \"/home/jarvis/notebook.ipynb\"\n",
    "\n",
    "file_path_list = file_path.split('/')\n",
    "print(file_path_list)\n",
    "print(file_path_list[-1])\n"
   ]
  },
  {
   "cell_type": "markdown",
   "metadata": {},
   "source": [
    "---"
   ]
  },
  {
   "cell_type": "code",
   "execution_count": null,
   "metadata": {},
   "outputs": [],
   "source": [
    "# 實做練習 將每個單字改成大寫開頭\n",
    "string04 = \"hello world! hello john\"\n",
    "\n"
   ]
  }
 ],
 "metadata": {
  "kernelspec": {
   "display_name": "Python 3",
   "language": "python",
   "name": "python3"
  },
  "language_info": {
   "codemirror_mode": {
    "name": "ipython",
    "version": 3
   },
   "file_extension": ".py",
   "mimetype": "text/x-python",
   "name": "python",
   "nbconvert_exporter": "python",
   "pygments_lexer": "ipython3",
   "version": "3.13.0"
  }
 },
 "nbformat": 4,
 "nbformat_minor": 2
}
