{
 "cells": [
  {
   "cell_type": "markdown",
   "metadata": {},
   "source": [
    "##### try...except..."
   ]
  },
  {
   "cell_type": "code",
   "execution_count": 1,
   "metadata": {},
   "outputs": [
    {
     "name": "stdout",
     "output_type": "stream",
     "text": [
      "x 尚未宣告\n"
     ]
    }
   ],
   "source": [
    "# 可以連續定義數個例外處理機制\n",
    "# 最符合的例外事件類別會先拋出\n",
    "try:\n",
    "    print(x)\n",
    "except NameError:\n",
    "    print(\"x 尚未宣告\")\n",
    "except:\n",
    "    print(\"某個東西出錯了!\")\n"
   ]
  },
  {
   "cell_type": "code",
   "execution_count": 3,
   "metadata": {},
   "outputs": [
    {
     "name": "stdout",
     "output_type": "stream",
     "text": [
      "其他錯誤:name 'z' is not defined\n",
      "不影響程式執行\n"
     ]
    }
   ],
   "source": [
    "try:\n",
    "    num_list = [1, 2, 3]\n",
    "    print(z)\n",
    "    print(num_list[5])\n",
    "    print(num_list)\n",
    "except IndexError:\n",
    "    print(\"IndexError 這邊報錯\")\n",
    "except Exception as e:\n",
    "    print(f\"其他錯誤:{e}\")\n",
    "print(\"不影響程式執行\")\n"
   ]
  },
  {
   "cell_type": "code",
   "execution_count": 2,
   "metadata": {},
   "outputs": [
    {
     "name": "stdout",
     "output_type": "stream",
     "text": [
      "Exception:\n",
      "name 'x' is not defined\n"
     ]
    }
   ],
   "source": [
    "# 多層例外處理:\n",
    "try:\n",
    "    print(x)\n",
    "    try:\n",
    "        print(y)\n",
    "    except NameError as err:\n",
    "        print(\"NameError:\")\n",
    "        print(err)\n",
    "except Exception as err:\n",
    "    print(\"Exception:\")\n",
    "    print(err)\n"
   ]
  },
  {
   "cell_type": "markdown",
   "metadata": {},
   "source": [
    "##### try...except...else...finally"
   ]
  },
  {
   "cell_type": "code",
   "execution_count": 4,
   "metadata": {},
   "outputs": [
    {
     "name": "stdout",
     "output_type": "stream",
     "text": [
      "變數尚未宣告\n",
      "程式執行結束\n"
     ]
    }
   ],
   "source": [
    "# 如果沒有錯誤，就會執行 else 程式區塊\n",
    "# finally 程式區塊是無論有無錯誤，都會執行\n",
    "try:\n",
    "    print(z)\n",
    "\n",
    "    x = 5\n",
    "\n",
    "    print(x)\n",
    "except:\n",
    "    print(\"變數尚未宣告\")\n",
    "\n",
    "else:\n",
    "    x+=5\n",
    "    print(\"沒有例外才會執行\")\n",
    "\n",
    "finally:\n",
    "    print(\"程式執行結束\")\n",
    "\n"
   ]
  },
  {
   "cell_type": "code",
   "execution_count": null,
   "metadata": {},
   "outputs": [],
   "source": []
  }
 ],
 "metadata": {
  "kernelspec": {
   "display_name": "Python 3",
   "language": "python",
   "name": "python3"
  },
  "language_info": {
   "codemirror_mode": {
    "name": "ipython",
    "version": 3
   },
   "file_extension": ".py",
   "mimetype": "text/x-python",
   "name": "python",
   "nbconvert_exporter": "python",
   "pygments_lexer": "ipython3",
   "version": "3.13.0"
  }
 },
 "nbformat": 4,
 "nbformat_minor": 2
}
