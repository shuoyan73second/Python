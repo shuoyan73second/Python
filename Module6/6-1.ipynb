{
 "cells": [
  {
   "cell_type": "code",
   "execution_count": null,
   "metadata": {},
   "outputs": [],
   "source": [
    "# 類別名稱\n",
    "# 類別屬性 (Class Attribute)\n",
    "\n",
    "\n"
   ]
  },
  {
   "cell_type": "code",
   "execution_count": null,
   "metadata": {},
   "outputs": [],
   "source": [
    "class"
   ]
  },
  {
   "cell_type": "code",
   "execution_count": null,
   "metadata": {},
   "outputs": [],
   "source": [
    "# 類別名稱\n",
    "# 類別屬性 (Class Attribute)\n",
    "\n",
    "# 方法 (Method)\n"
   ]
  },
  {
   "cell_type": "code",
   "execution_count": 1,
   "metadata": {},
   "outputs": [],
   "source": [
    "import pymysql\n",
    "import pymysql.cursors\n",
    "class SqlQuery:\n",
    "    def __init__(self, database=None):\n",
    "        self.connection = pymysql.connect(\n",
    "            host=\"localhost\",\n",
    "            user=\"root\",\n",
    "            password=\"P@ssw0rd\",\n",
    "            port=3306,\n",
    "            database=database,\n",
    "            cursorclass=pymysql.cursors.DictCursor\n",
    "        )\n",
    "    def show_database(self):\n",
    "        with self.connection.cursor() as cursor:\n",
    "            cursor.execute(\"SHOW DATABASES;\")\n",
    "            result = cursor.fetchall()\n",
    "        return result\n",
    "    def show_tables(self):\n",
    "        with self.connection.cursor() as cursor:\n",
    "            cursor.execute(\"SHOW TABLES;\")\n",
    "            result = cursor.fetchall()\n",
    "        return result"
   ]
  },
  {
   "cell_type": "code",
   "execution_count": 2,
   "metadata": {},
   "outputs": [
    {
     "name": "stdout",
     "output_type": "stream",
     "text": [
      "[{'Database': 'information_schema'}, {'Database': 'my_database'}, {'Database': 'my_titanic'}, {'Database': 'my_train_titanic'}, {'Database': 'mysql'}, {'Database': 'performance_schema'}, {'Database': 'sakila'}, {'Database': 'servdb'}, {'Database': 'social_media_app'}, {'Database': 'sys'}, {'Database': 'transaction_test'}, {'Database': 'world'}]\n"
     ]
    },
    {
     "data": {
      "text/plain": [
       "[{'Tables_in_my_titanic': 'full_passengers'}]"
      ]
     },
     "execution_count": 2,
     "metadata": {},
     "output_type": "execute_result"
    }
   ],
   "source": [
    "database = SqlQuery().show_database()\n",
    "print(database)\n",
    "\n",
    "my_titanic_connection = SqlQuery('my_titanic')\n",
    "my_titanic_connection.show_tables()"
   ]
  },
  {
   "cell_type": "code",
   "execution_count": 4,
   "metadata": {},
   "outputs": [
    {
     "name": "stdout",
     "output_type": "stream",
     "text": [
      "<configparser.ConfigParser object at 0x000001EB0E29CA50>\n",
      "localhost\n",
      "root\n",
      "P@ssw0rd\n",
      "3306\n",
      "<class 'str'>\n"
     ]
    }
   ],
   "source": [
    "import configparser\n",
    "config = configparser.ConfigParser()\n",
    "config.read('config.ini')\n",
    "\n",
    "print(config)\n",
    "host = config['DB']['hostname']\n",
    "user = config['DB']['user']\n",
    "password = config['DB']['password']\n",
    "port = config['DB']['port']\n",
    "\n",
    "print(host)\n",
    "print(user)\n",
    "print(password)\n",
    "print(port)\n",
    "print(type(port))"
   ]
  },
  {
   "cell_type": "code",
   "execution_count": 8,
   "metadata": {},
   "outputs": [
    {
     "name": "stdout",
     "output_type": "stream",
     "text": [
      "[{'Database': 'information_schema'}, {'Database': 'my_database'}, {'Database': 'my_titanic'}, {'Database': 'my_train_titanic'}, {'Database': 'mysql'}, {'Database': 'performance_schema'}, {'Database': 'sakila'}, {'Database': 'servdb'}, {'Database': 'social_media_app'}, {'Database': 'sys'}, {'Database': 'transaction_test'}, {'Database': 'world'}]\n",
      "HostName: localhost\n",
      "user: root\n",
      "password: P@ssw0rd\n",
      "port: 3306\n"
     ]
    }
   ],
   "source": [
    "import pymysql\n",
    "import configparser as cp\n",
    "class SqlQuery:\n",
    "    config = cp.ConfigParser()\n",
    "    config.read('config.ini')\n",
    "\n",
    "    def __init__(self, database=None):\n",
    "        self.connection = pymysql.connect(\n",
    "            host=config['DB']['hostname'],\n",
    "            user=config['DB']['user'],\n",
    "            password=config['DB']['password'],\n",
    "            port=int(config['DB']['port']),\n",
    "            database=database,\n",
    "            cursorclass=pymysql.cursors.DictCursor\n",
    "        )\n",
    "    @staticmethod\n",
    "    def show_config():\n",
    "        print(f\"HostName: {SqlQuery.config['DB']['hostname']}\")\n",
    "        print(f\"user: {SqlQuery.config['DB']['user']}\")\n",
    "        print(f\"password: {SqlQuery.config['DB']['password']}\")\n",
    "        print(f\"port: {SqlQuery.config['DB']['port']}\")\n",
    "    @property\n",
    "    def show_database(self):\n",
    "        with self.connection.cursor() as cursor:\n",
    "            cursor.execute('SHOW DATABASES;')\n",
    "            result = cursor.fetchall()\n",
    "        return result\n",
    "    def show_tables(self):\n",
    "        with self.connection.cursor() as cursor:\n",
    "            cursor.execute('SHOW TABLES;')\n",
    "            result = cursor.fetchall()\n",
    "        return result\n",
    "    @staticmethod\n",
    "    def test():\n",
    "        return \"No Self\"\n",
    "    \n",
    "database = SqlQuery().show_database\n",
    "print(database)\n",
    "\n",
    "my_titanic_connection = SqlQuery('my_titanic')\n",
    "my_titanic_connection.show_tables()\n",
    "my_titanic_connection.test()\n",
    "my_titanic_connection.show_config()"
   ]
  },
  {
   "cell_type": "code",
   "execution_count": null,
   "metadata": {},
   "outputs": [],
   "source": []
  }
 ],
 "metadata": {
  "kernelspec": {
   "display_name": "Python 3",
   "language": "python",
   "name": "python3"
  },
  "language_info": {
   "codemirror_mode": {
    "name": "ipython",
    "version": 3
   },
   "file_extension": ".py",
   "mimetype": "text/x-python",
   "name": "python",
   "nbconvert_exporter": "python",
   "pygments_lexer": "ipython3",
   "version": "3.13.0"
  }
 },
 "nbformat": 4,
 "nbformat_minor": 2
}
