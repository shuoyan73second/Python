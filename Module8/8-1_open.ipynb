{
 "cells": [
  {
   "cell_type": "markdown",
   "metadata": {},
   "source": [
    "##### `open()` 函式\n",
    "|`\"r\"`|`\"a\"`|`\"w\"`|`\"x\"`|`\"t\"`|`\"b\"`|\n",
    "|:--:|:--:|:--:|:--:|:--:|:--:|\n",
    "|read|append|write|create|text|binary|"
   ]
  },
  {
   "cell_type": "markdown",
   "metadata": {},
   "source": [
    "##### 讀取檔案 read( )"
   ]
  },
  {
   "cell_type": "code",
   "execution_count": 1,
   "metadata": {},
   "outputs": [
    {
     "name": "stdout",
     "output_type": "stream",
     "text": [
      "==================================================\n",
      "# 建立第一支 Python 程式\n",
      "\n",
      "# 宣告變數\n",
      "x = 1\n",
      "name = \"Alex\"\n",
      "\n",
      "\n",
      "\n",
      "# 輸出變數\n",
      "\n",
      "print(x)\n",
      "print(name)\n",
      "\n",
      "==================================================\n"
     ]
    }
   ],
   "source": [
    "# 印出 50 個 \"=\"\n",
    "print(\"=\"*50)\n",
    "\n",
    "# 讀取檔案內容 - 常用的寫法 (執行完畢會自動關閉檔案)\n",
    "with open(file='../Module2/2-1.py',mode='r',encoding='utf-8') as f:\n",
    "    print(f.read())\n",
    "\n",
    "# 印出 50 個 \"=\"\n",
    "print('='*50)\n",
    "\n",
    "\n"
   ]
  },
  {
   "cell_type": "code",
   "execution_count": 2,
   "metadata": {},
   "outputs": [
    {
     "name": "stdout",
     "output_type": "stream",
     "text": [
      "# 建立第一支 Python 程式\n",
      "\n",
      "# 宣告變數\n",
      "x = 1\n",
      "name = \"Alex\"\n",
      "\n",
      "\n",
      "\n",
      "# 輸出變數\n",
      "\n",
      "print(x)\n",
      "print(name)\n"
     ]
    }
   ],
   "source": [
    "# 一行一行讀取\n",
    "\n",
    "with open(file='../Module2/2-1.py',mode='r',encoding='utf-8') as f:\n",
    "    for line in f:\n",
    "        print(line, end='')\n",
    "    \n"
   ]
  },
  {
   "cell_type": "code",
   "execution_count": 3,
   "metadata": {},
   "outputs": [
    {
     "name": "stdout",
     "output_type": "stream",
     "text": [
      "['# 建立第一支 Python 程式\\n', '\\n', '# 宣告變數\\n', 'x = 1\\n', 'name = \"Alex\"\\n', '\\n', '\\n', '\\n', '# 輸出變數\\n', '\\n', 'print(x)\\n', 'print(name)\\n']\n",
      "['# 建立第一支 Python 程式\\n', '# 宣告變數\\n', 'x = 1\\n', 'name = \"Alex\"\\n', '# 輸出變數\\n', 'print(x)\\n', 'print(name)\\n']\n",
      "['# 建立第一支 Python 程式', '# 宣告變數', 'x = 1', 'name = \"Alex\"', '# 輸出變數', 'print(x)', 'print(name)']\n"
     ]
    }
   ],
   "source": [
    "# 資料處理\n",
    "list_without_n=[]\n",
    "with open('../Module2/2-1.py', 'r', encoding='utf-8') as f:\n",
    "    data = f.readlines()\n",
    "    print(data)\n",
    "\n",
    "    while '\\n' in data:\n",
    "        data.remove('\\n')\n",
    "\n",
    "    for i in data:\n",
    "        list_without_n.append(i.strip('\\n'))\n",
    "print(data)\n",
    "print(list_without_n)"
   ]
  },
  {
   "cell_type": "markdown",
   "metadata": {},
   "source": [
    "##### 寫入檔案 write( )"
   ]
  },
  {
   "cell_type": "code",
   "execution_count": null,
   "metadata": {},
   "outputs": [],
   "source": [
    "# 文字內容\n",
    "text = '''\n",
    "傑出的人會努力規劃自己的人生，普通的人則是隨便命運怎麼安排   \n",
    "一個是充實、有目的的過每一天，一個是隨興的過一天算一天\n",
    "創業這條路 Michael E.Gerber\n",
    "'''\n",
    "\n",
    "# 寫入檔案\n",
    "\n",
    "\n",
    "\n"
   ]
  },
  {
   "cell_type": "code",
   "execution_count": null,
   "metadata": {},
   "outputs": [],
   "source": [
    "# 寫入資料到最後一行 (附加文字在檔案內容最後一行)\n",
    "\n",
    "# People say that success just happens to you. It doesn't!\n",
    "\n"
   ]
  }
 ],
 "metadata": {
  "kernelspec": {
   "display_name": "Python 3",
   "language": "python",
   "name": "python3"
  },
  "language_info": {
   "codemirror_mode": {
    "name": "ipython",
    "version": 3
   },
   "file_extension": ".py",
   "mimetype": "text/x-python",
   "name": "python",
   "nbconvert_exporter": "python",
   "pygments_lexer": "ipython3",
   "version": "3.13.0"
  }
 },
 "nbformat": 4,
 "nbformat_minor": 2
}
